{
 "cells": [
  {
   "cell_type": "code",
   "execution_count": 151,
   "metadata": {},
   "outputs": [],
   "source": [
    "## main class MathsLab\n",
    "class MathsLab:\n",
    "    def __init__(self):\n",
    "        print(\"Welcome to the MathsLab class\")\n",
    "\n",
    "    ## simplification calss and it has many functions\n",
    "    class Simplification:\n",
    "        def __init__(self):\n",
    "            print(\"Welcome to Simplification labrary\")\n",
    "            \n",
    "        def add(self, num1, num2):\n",
    "            result =  num1 + num2\n",
    "            return f\"The sum of the numbers {num1} and {num2} is: {result}!\"\n",
    "        \n",
    "        def subtraction(self, num1, num2):\n",
    "            result =  num1 - num2\n",
    "            return f\"The subtraction of the numbers {num1} and {num2} is: {result}!\"\n",
    "\n",
    "\n",
    "        def multiplication(self, num1, num2):\n",
    "            result =  num1 * num2\n",
    "            return f\"The multipication of the numbers {num1} and {num2} is: {result}!\"\n",
    "        \n",
    "\n",
    "        def division(self, num1, num2):\n",
    "            result = num1 / num2              \n",
    "            return f\"The division of the numbers {num1} and {num2} is: {result}!\"\n",
    "        \n",
    "        \n",
    "        def powerValue(self, number, power_val):\n",
    "            result =  number**power_val\n",
    "            return f\"The Result of the number {number} and power value {power_val} is: {result}!\"\n",
    "        \n",
    "       \n",
    "        \n",
    "    class Algebra:\n",
    "        def __init__(self):\n",
    "            pass\n",
    "\n",
    "    ## mensuration class\n",
    "    class Mensuration:\n",
    "        def __init__(self):\n",
    "            self.pi = 3.147\n",
    "\n",
    "       ## area of the circle\n",
    "        def areOfCircle(self, radius:int):\n",
    "            return f\"Area of the circle is with radius {radius} is: {self.pi*radius**2}\"\n",
    "        \n",
    "        def circumference(self, radius:int):\n",
    "            return f\"Circumference of the circle is {2*self.pi*radius}\"\n",
    "        \n",
    "        def areOfRectange(self, length:int, width:int):\n",
    "            return f\"Area of the Rectangle is: {length*width}\"\n",
    "        def areOfCube(self, side:int):\n",
    "            return f\"Area of the cube is {side**3}\""
   ]
  },
  {
   "cell_type": "code",
   "execution_count": 152,
   "metadata": {},
   "outputs": [],
   "source": [
    "maths = MathsLab"
   ]
  },
  {
   "cell_type": "code",
   "execution_count": 153,
   "metadata": {},
   "outputs": [
    {
     "name": "stdout",
     "output_type": "stream",
     "text": [
      "Welcome to Simplification labrary\n",
      "The sum of the numbers 10 and 5 is: 15!\n",
      "The subtraction of the numbers 10 and 5 is: 5!\n",
      "The multipication of the numbers 10 and 5 is: 50!\n",
      "The division of the numbers 10 and 5 is: 2.0!\n",
      "The Result of the number 10 and power value 2 is: 100!\n"
     ]
    }
   ],
   "source": [
    "maths_simp = maths.Simplification()\n",
    "print(maths_simp.add(10, 5))\n",
    "print(maths_simp.subtraction(10, 5))\n",
    "print(maths_simp.multiplication(10, 5))\n",
    "print(maths_simp.division(10, 5))\n",
    "print(maths_simp.powerValue(10, 2))"
   ]
  },
  {
   "cell_type": "code",
   "execution_count": 154,
   "metadata": {},
   "outputs": [],
   "source": [
    "mensu = maths.Mensuration()"
   ]
  },
  {
   "cell_type": "code",
   "execution_count": 155,
   "metadata": {},
   "outputs": [
    {
     "name": "stdout",
     "output_type": "stream",
     "text": [
      "Area of the circle is with radius 1 is: 3.147\n",
      "Area of the circle is with radius 1 is: 3.147\n",
      "Area of the Rectangle is: 150\n",
      "Area of the cube is 64\n"
     ]
    }
   ],
   "source": [
    "print(mensu.areOfCircle(1))\n",
    "print(mensu.areOfCircle(1))\n",
    "print(mensu.areOfRectange(10, 15))\n",
    "print(mensu.areOfCube(4))"
   ]
  },
  {
   "cell_type": "code",
   "execution_count": 156,
   "metadata": {},
   "outputs": [
    {
     "data": {
      "text/plain": [
       "'Area of the circle is with radius 2 is: 12.588'"
      ]
     },
     "execution_count": 156,
     "metadata": {},
     "output_type": "execute_result"
    }
   ],
   "source": [
    "mensu.areOfCircle(radius=2)"
   ]
  },
  {
   "cell_type": "code",
   "execution_count": null,
   "metadata": {},
   "outputs": [],
   "source": []
  },
  {
   "cell_type": "code",
   "execution_count": null,
   "metadata": {},
   "outputs": [],
   "source": []
  },
  {
   "cell_type": "code",
   "execution_count": null,
   "metadata": {},
   "outputs": [],
   "source": []
  }
 ],
 "metadata": {
  "kernelspec": {
   "display_name": "Python 3",
   "language": "python",
   "name": "python3"
  },
  "language_info": {
   "codemirror_mode": {
    "name": "ipython",
    "version": 3
   },
   "file_extension": ".py",
   "mimetype": "text/x-python",
   "name": "python",
   "nbconvert_exporter": "python",
   "pygments_lexer": "ipython3",
   "version": "3.12.1"
  }
 },
 "nbformat": 4,
 "nbformat_minor": 2
}
