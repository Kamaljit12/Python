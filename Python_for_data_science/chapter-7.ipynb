{
 "cells": [
  {
   "cell_type": "code",
   "execution_count": null,
   "metadata": {},
   "outputs": [
    {
     "name": "stdout",
     "output_type": "stream",
     "text": [
      "Hello Tello me something about you!For exit eneter --yes\n",
      "\n",
      " Thanks to tell about you: i am kamal\n",
      "Hello Tello me something about you!For exit eneter --yes\n"
     ]
    }
   ],
   "source": [
    "prompt = \"Hello Tello me something about you!\"\n",
    "prompt += \"For exit eneter --yes\"\n",
    "\n",
    "while True:\n",
    "    user_inp = input(prompt)\n",
    "    if user_inp == 'yes':\n",
    "        break\n",
    "    else:\n",
    "        print(f\"Thanks to tell about you: {user_inp}\")\n",
    "\n"
   ]
  },
  {
   "cell_type": "code",
   "execution_count": 6,
   "metadata": {},
   "outputs": [
    {
     "name": "stdout",
     "output_type": "stream",
     "text": [
      "I'd love to go to Dfsfds!\n",
      "I'd love to go to Yes!\n",
      "I'd love to go to Quit!\n"
     ]
    }
   ],
   "source": [
    "prompt = \"\\nPlease enter the name of a city you have visited:\"\n",
    "prompt += \"\\n(Enter 'quit' when you are finished.) \"\n",
    "while True:\n",
    "    city = input(prompt)\n",
    " \n",
    "    if city == 'quit':\n",
    "        break\n",
    "    else:\n",
    "        print(f\"I'd love to go to {city.title()}!\")"
   ]
  },
  {
   "cell_type": "code",
   "execution_count": 15,
   "metadata": {},
   "outputs": [
    {
     "name": "stdout",
     "output_type": "stream",
     "text": [
      "10\n"
     ]
    }
   ],
   "source": [
    "current_number = 0\n",
    "while current_number < 10:\n",
    "    current_number += 1\n",
    "    # if current_number % 2 == 0:\n",
    "    #     continue\n",
    " \n",
    "print(current_number)"
   ]
  },
  {
   "cell_type": "code",
   "execution_count": 17,
   "metadata": {},
   "outputs": [],
   "source": [
    "def primer_check(num):\n",
    "    if num % num or num % 1:\n",
    "        print(\"Prime Number !\")\n",
    "    else:\n",
    "        print(\"It's not Prime number !\")"
   ]
  },
  {
   "cell_type": "code",
   "execution_count": 20,
   "metadata": {},
   "outputs": [
    {
     "name": "stdout",
     "output_type": "stream",
     "text": [
      "It's not Prime number !\n"
     ]
    }
   ],
   "source": [
    "primer_check(12)"
   ]
  },
  {
   "cell_type": "code",
   "execution_count": 21,
   "metadata": {},
   "outputs": [],
   "source": [
    "def is_prime(n):\n",
    "    if n <= 1:\n",
    "        return False\n",
    "    for i in range(2, int(n ** 0.5) + 1):\n",
    "        if n % i == 0:\n",
    "            return False\n",
    "    return True"
   ]
  },
  {
   "cell_type": "code",
   "execution_count": 23,
   "metadata": {},
   "outputs": [
    {
     "data": {
      "text/plain": [
       "True"
      ]
     },
     "execution_count": 23,
     "metadata": {},
     "output_type": "execute_result"
    }
   ],
   "source": [
    "is_prime(3)"
   ]
  },
  {
   "cell_type": "code",
   "execution_count": 3,
   "metadata": {},
   "outputs": [
    {
     "name": "stdout",
     "output_type": "stream",
     "text": [
      "Verifying user: Alice\n"
     ]
    }
   ],
   "source": [
    "# Start with users that need to be verified, \n",
    "# and an empty list to hold confirmed users.\n",
    "unconfirmed_users = ['alice', 'brian', 'candace']\n",
    "confirmed_users = []\n",
    "\n",
    "# Verify each user until there are no more unconfirmed users.\n",
    "# Move each verified user into the list of confirmed users.\n",
    "while unconfirmed_users:\n",
    "    current_user = unconfirmed_users.pop()\n",
    " \n",
    "print(f\"Verifying user: {current_user.title()}\")\n",
    "confirmed_users.append(current_user)\n",
    "\n"
   ]
  },
  {
   "cell_type": "code",
   "execution_count": 4,
   "metadata": {},
   "outputs": [
    {
     "name": "stdout",
     "output_type": "stream",
     "text": [
      "\n",
      "The following users have been confirmed:\n",
      "Alice\n"
     ]
    }
   ],
   "source": [
    "# Display all confirmed users.\n",
    "print(\"\\nThe following users have been confirmed:\")\n",
    "for confirmed_user in confirmed_users:\n",
    " print(confirmed_user.title())"
   ]
  },
  {
   "cell_type": "code",
   "execution_count": 7,
   "metadata": {},
   "outputs": [
    {
     "name": "stdout",
     "output_type": "stream",
     "text": [
      "Verifying user is: Chanda\n"
     ]
    }
   ],
   "source": [
    "names = ['chanda', 'kamal', ' durga', 'somil']\n",
    "\n",
    "confirmed_users = []\n",
    "\n",
    "while names:\n",
    "    current_user = names.pop()\n",
    " \n",
    "print(\"Verifying user is:\", current_user.title())\n",
    "confirmed_users.append(current_user)"
   ]
  },
  {
   "cell_type": "code",
   "execution_count": 8,
   "metadata": {},
   "outputs": [
    {
     "name": "stdout",
     "output_type": "stream",
     "text": [
      "The following users has confirmed\n",
      "Verifyied users is : chanda\n"
     ]
    }
   ],
   "source": [
    "print(\"The following users has confirmed\")\n",
    "for confirmed_user in confirmed_users:\n",
    "    print(\"Verifyied users is :\", current_user)"
   ]
  },
  {
   "cell_type": "markdown",
   "metadata": {},
   "source": [
    "## Verify and confirm users"
   ]
  },
  {
   "cell_type": "code",
   "execution_count": null,
   "metadata": {},
   "outputs": [
    {
     "name": "stdout",
     "output_type": "stream",
     "text": [
      "Sorry first register !\n"
     ]
    }
   ],
   "source": [
    "names = ['chanda', 'kamal', 'durga', 'somil']\n",
    "\n",
    "confirmed_user = input(\"Enter Your Name:  \")\n",
    "\n",
    "for name in names:\n",
    "    if name == confirmed_user:\n",
    "        print(f\"{name} is verified user !\")\n",
    "        break\n",
    "else:\n",
    "    print(\"Sorry first register !\")\n"
   ]
  },
  {
   "cell_type": "markdown",
   "metadata": {},
   "source": [
    "## remove all the same values from the list"
   ]
  },
  {
   "cell_type": "code",
   "execution_count": 3,
   "metadata": {},
   "outputs": [
    {
     "name": "stdout",
     "output_type": "stream",
     "text": [
      "['dog', 'cat', 'dog', 'goldfish', 'cat', 'rabbit', 'cat']\n",
      "['dog', 'dog', 'goldfish', 'rabbit']\n"
     ]
    }
   ],
   "source": [
    "pets = ['dog', 'cat', 'dog', 'goldfish', 'cat', 'rabbit', 'cat']\n",
    "print(pets)\n",
    "\n",
    "while 'cat' in pets:\n",
    "    pets.remove('cat')\n",
    "\n",
    "print(pets)"
   ]
  },
  {
   "cell_type": "code",
   "execution_count": 15,
   "metadata": {},
   "outputs": [
    {
     "name": "stdout",
     "output_type": "stream",
     "text": [
      "Confirmed use is: somil\n",
      "Confirmed use is: durga\n",
      "Confirmed use is: kamal\n",
      "Confirmed use is: chanda\n"
     ]
    }
   ],
   "source": [
    "names = ['chanda', 'kamal', 'durga', 'somil']\n",
    "\n",
    "for name in names:\n",
    "    while name in names:\n",
    "        current_user = names.pop()\n",
    "        print(\"Confirmed use is:\",current_user)"
   ]
  },
  {
   "cell_type": "code",
   "execution_count": 18,
   "metadata": {},
   "outputs": [
    {
     "name": "stdout",
     "output_type": "stream",
     "text": [
      "kamal: i ma kamal\n"
     ]
    }
   ],
   "source": [
    "dic = {}\n",
    "\n",
    "active = True\n",
    "\n",
    "while active:\n",
    "    user_name = input(\"Enter Your name: \")    \n",
    "    user_response = input(\"Tell me Your response: \")\n",
    "    dic[user_name] = user_response\n",
    "    \n",
    "    repeat = input(\"Are you willing to response: (yes/no)\")\n",
    "\n",
    "    if repeat == 'yes':\n",
    "        active = False\n",
    "    else:\n",
    "        active = True\n",
    " \n",
    "for name, response in dic.items():\n",
    "    print(f\"{name}: {response}\")"
   ]
  },
  {
   "cell_type": "code",
   "execution_count": null,
   "metadata": {},
   "outputs": [],
   "source": [
    "print()"
   ]
  },
  {
   "cell_type": "markdown",
   "metadata": {},
   "source": [
    "## Take user input and store all the user information"
   ]
  },
  {
   "cell_type": "code",
   "execution_count": 58,
   "metadata": {},
   "outputs": [],
   "source": [
    "user_info = {}\n",
    "def user_info_gathering(): \n",
    "    active = True\n",
    "    user_name = input(\"Enter Your name: \")\n",
    "    user_response = input(\"Enter Your response: \")\n",
    "    user_info[user_name] = user_response\n",
    "\n",
    "    itter = input('Are you willing to contitnue press.. yes or no')\n",
    "    if itter == 'no':\n",
    "        active = False\n",
    "    else:\n",
    "        user_info_gathering()\n"
   ]
  },
  {
   "cell_type": "markdown",
   "metadata": {},
   "source": [
    "## Call the program"
   ]
  },
  {
   "cell_type": "code",
   "execution_count": 61,
   "metadata": {},
   "outputs": [],
   "source": [
    "user_info_gathering()"
   ]
  },
  {
   "cell_type": "markdown",
   "metadata": {},
   "source": [
    "## Gathered user info"
   ]
  },
  {
   "cell_type": "code",
   "execution_count": 62,
   "metadata": {},
   "outputs": [
    {
     "name": "stdout",
     "output_type": "stream",
     "text": [
      "kamal: ml enginner\n",
      "anish: youtuber\n",
      "manish: camers man\n"
     ]
    }
   ],
   "source": [
    "for name, response in user_info.items():\n",
    "    print(f\"{name}: {response}\")"
   ]
  },
  {
   "cell_type": "markdown",
   "metadata": {},
   "source": [
    "## Students presentations"
   ]
  },
  {
   "cell_type": "code",
   "execution_count": 70,
   "metadata": {},
   "outputs": [],
   "source": [
    "student_info = {}\n",
    "def student_info_gathering():\n",
    "    active = True\n",
    "    st_name = input(\"Enter Your Name: \")\n",
    "    st_roll_no = int(input(\"Enter Your Roll Number: \"))\n",
    "\n",
    "    student_info[st_name] = st_roll_no\n",
    "\n",
    "    itter = input(\"\"\"Is all Student has done\n",
    "                   his presentation press yes \n",
    "                  for quit press no\"\"\")\n",
    "    if itter == \"yes\":\n",
    "        active = False\n",
    "    else:\n",
    "        student_info_gathering()"
   ]
  },
  {
   "cell_type": "code",
   "execution_count": 71,
   "metadata": {},
   "outputs": [
    {
     "name": "stdout",
     "output_type": "stream",
     "text": [
      "Your name is kamal and roll number is 1\n",
      "Your name is anish and roll number is 2\n",
      "Your name is manish and roll number is 3\n",
      "Thanks to use us!\n"
     ]
    }
   ],
   "source": [
    "student_info_gathering()\n",
    "for name, roll_no in student_info.items():\n",
    "    print(f\"Your name is {name} and roll number is {roll_no}\")\n",
    "print('Thanks to use us!')"
   ]
  },
  {
   "cell_type": "code",
   "execution_count": null,
   "metadata": {},
   "outputs": [],
   "source": []
  },
  {
   "cell_type": "code",
   "execution_count": null,
   "metadata": {},
   "outputs": [],
   "source": []
  },
  {
   "cell_type": "code",
   "execution_count": null,
   "metadata": {},
   "outputs": [],
   "source": []
  },
  {
   "cell_type": "code",
   "execution_count": null,
   "metadata": {},
   "outputs": [],
   "source": []
  },
  {
   "cell_type": "code",
   "execution_count": null,
   "metadata": {},
   "outputs": [],
   "source": []
  },
  {
   "cell_type": "code",
   "execution_count": null,
   "metadata": {},
   "outputs": [],
   "source": []
  },
  {
   "cell_type": "code",
   "execution_count": null,
   "metadata": {},
   "outputs": [],
   "source": []
  },
  {
   "cell_type": "code",
   "execution_count": null,
   "metadata": {},
   "outputs": [],
   "source": []
  }
 ],
 "metadata": {
  "kernelspec": {
   "display_name": "Python 3",
   "language": "python",
   "name": "python3"
  },
  "language_info": {
   "codemirror_mode": {
    "name": "ipython",
    "version": 3
   },
   "file_extension": ".py",
   "mimetype": "text/x-python",
   "name": "python",
   "nbconvert_exporter": "python",
   "pygments_lexer": "ipython3",
   "version": "3.12.1"
  }
 },
 "nbformat": 4,
 "nbformat_minor": 2
}
